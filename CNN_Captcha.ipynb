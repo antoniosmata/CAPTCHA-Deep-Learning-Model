{
  "cells": [
    {
      "cell_type": "markdown",
      "metadata": {
        "id": "rnEFFeWy9EAx"
      },
      "source": [
        "# **Loads CAPTCHA images**"
      ]
    },
    {
      "cell_type": "code",
      "execution_count": null,
      "metadata": {
        "colab": {
          "base_uri": "https://localhost:8080/"
        },
        "id": "-mvedlUNZdAq",
        "outputId": "10f30507-2c63-4699-fa52-125726b06fae"
      },
      "outputs": [
        {
          "output_type": "stream",
          "name": "stdout",
          "text": [
            "Mounted at /content/drive\n",
            "Found 3000 .jpg files.\n"
          ]
        }
      ],
      "source": [
        "import os\n",
        "from google.colab import drive\n",
        "\n",
        "# Mount to google drive\n",
        "drive.mount('/content/drive', force_remount=True)\n",
        "\n",
        "# Folder path for captcha dataset\n",
        "folder_path = '/content/drive/MyDrive/CAPTCHA_3000'\n",
        "#folder_path = '/content/drive/MyDrive/Main'\n",
        "#folder_path = '/content/drive/MyDrive/CAPTCHA Database'\n",
        "\n",
        "jpg_files = []\n",
        "\n",
        "try:\n",
        "    # Go through all directories and files in folder_path\n",
        "    for root, dirs, files in os.walk(folder_path):\n",
        "        for file in files:\n",
        "            if file.lower().endswith('.jpg'):  # Find all .jpg files in folder\n",
        "                jpg_files.append(os.path.join(root, file))\n",
        "\n",
        "    # Now jpg_files contains all the paths to the .jpg files\n",
        "    # Prints out how many .jpg files have been loaded\n",
        "    print(f\"Found {len(jpg_files)} .jpg files.\")\n",
        "\n",
        "except Exception as e:\n",
        "    print(f\"An error occurred: {e}\")"
      ]
    },
    {
      "cell_type": "markdown",
      "metadata": {
        "id": "Rk_A3nYv9IOB"
      },
      "source": [
        "# **Creates CNN Model**"
      ]
    },
    {
      "cell_type": "code",
      "execution_count": null,
      "metadata": {
        "colab": {
          "base_uri": "https://localhost:8080/"
        },
        "id": "feDo3WNF9Dja",
        "outputId": "4f744786-92d4-42b8-b001-a84f99a7910a"
      },
      "outputs": [
        {
          "output_type": "stream",
          "name": "stdout",
          "text": [
            "Model: \"sequential\"\n",
            "_________________________________________________________________\n",
            " Layer (type)                Output Shape              Param #   \n",
            "=================================================================\n",
            " conv2d (Conv2D)             (None, 38, 148, 32)       896       \n",
            "                                                                 \n",
            " max_pooling2d (MaxPooling2  (None, 19, 74, 32)        0         \n",
            " D)                                                              \n",
            "                                                                 \n",
            " conv2d_1 (Conv2D)           (None, 17, 72, 64)        18496     \n",
            "                                                                 \n",
            " max_pooling2d_1 (MaxPoolin  (None, 8, 36, 64)         0         \n",
            " g2D)                                                            \n",
            "                                                                 \n",
            " conv2d_2 (Conv2D)           (None, 6, 34, 128)        73856     \n",
            "                                                                 \n",
            " max_pooling2d_2 (MaxPoolin  (None, 3, 17, 128)        0         \n",
            " g2D)                                                            \n",
            "                                                                 \n",
            " flatten (Flatten)           (None, 6528)              0         \n",
            "                                                                 \n",
            " dense (Dense)               (None, 512)               3342848   \n",
            "                                                                 \n",
            " dropout (Dropout)           (None, 512)               0         \n",
            "                                                                 \n",
            " dense_1 (Dense)             (None, 310)               159030    \n",
            "                                                                 \n",
            " reshape (Reshape)           (None, 5, 62)             0         \n",
            "                                                                 \n",
            "=================================================================\n",
            "Total params: 3595126 (13.71 MB)\n",
            "Trainable params: 3595126 (13.71 MB)\n",
            "Non-trainable params: 0 (0.00 Byte)\n",
            "_________________________________________________________________\n"
          ]
        }
      ],
      "source": [
        "from tensorflow.keras import layers, models\n",
        "from tensorflow.keras.optimizers import Adam\n",
        "\n",
        "def build_cnn_model(input_shape, num_classes, num_chars):\n",
        "    # Input shape should be the shape of the CAPTCHA images, e.g., (40, 150, 3)\n",
        "    # Num_classes is the number of possible characters for each position in the CAPTCHA\n",
        "    # Num_chars is the length of the CAPTCHA strings\n",
        "\n",
        "    model = models.Sequential()\n",
        "\n",
        "    # CNN layers for feature extraction\n",
        "    model.add(layers.Conv2D(32, (3, 3), activation='relu', input_shape=input_shape))\n",
        "    model.add(layers.MaxPooling2D((2, 2)))\n",
        "    model.add(layers.Conv2D(64, (3, 3), activation='relu'))\n",
        "    model.add(layers.MaxPooling2D((2, 2)))\n",
        "    model.add(layers.Conv2D(128, (3, 3), activation='relu'))\n",
        "    model.add(layers.MaxPooling2D((2, 2)))\n",
        "\n",
        "    # Flatten the CNN output to feed into the dense layers\n",
        "    model.add(layers.Flatten())\n",
        "\n",
        "    # Dense layer for further processing\n",
        "    model.add(layers.Dense(512, activation='relu'))\n",
        "    model.add(layers.Dropout(0.5))\n",
        "\n",
        "    # Output layer, one set of classes for each character in the CAPTCHA\n",
        "    model.add(layers.Dense(num_chars * num_classes, activation='softmax'))\n",
        "\n",
        "    # Reshape the output layer to have the shape (num_chars, num_classes)\n",
        "    model.add(layers.Reshape((num_chars, num_classes)))\n",
        "\n",
        "    return model\n",
        "\n",
        "# Define input shape, number of classes, and length of CAPTCHA\n",
        "input_shape = (40, 150, 3)  # Adjust as per your CAPTCHA image dimensions\n",
        "num_classes = 62  # Total number of possible characters (0-9, a-z, A-Z)\n",
        "num_chars = 5  # The length of CAPTCHA codes\n",
        "\n",
        "# Adjust the learning rate\n",
        "lr = 1e-4\n",
        "optimizer = Adam(learning_rate=lr, clipvalue=0.5)  # Adding gradient clipping\n",
        "\n",
        "# Build and compile the model\n",
        "model = build_cnn_model(input_shape, num_classes, num_chars)\n",
        "model.compile(optimizer=optimizer, loss='categorical_crossentropy', metrics=['accuracy'])\n",
        "\n",
        "model.summary()\n"
      ]
    },
    {
      "cell_type": "markdown",
      "metadata": {
        "id": "Lr97Ij1a9Kwb"
      },
      "source": [
        "# **Preprocesses Data**"
      ]
    },
    {
      "cell_type": "code",
      "execution_count": null,
      "metadata": {
        "colab": {
          "base_uri": "https://localhost:8080/"
        },
        "id": "3glmqPquhhrG",
        "outputId": "7999e0b4-28d5-4151-c8c8-113cdb0553ae"
      },
      "outputs": [
        {
          "output_type": "stream",
          "name": "stdout",
          "text": [
            "Processed 100/3000 images.\n",
            "Processed 200/3000 images.\n",
            "Processed 300/3000 images.\n",
            "Processed 400/3000 images.\n",
            "Processed 500/3000 images.\n",
            "Processed 600/3000 images.\n",
            "Processed 700/3000 images.\n",
            "Processed 800/3000 images.\n",
            "Processed 900/3000 images.\n",
            "Processed 1000/3000 images.\n",
            "Processed 1100/3000 images.\n",
            "Processed 1200/3000 images.\n",
            "Processed 1300/3000 images.\n",
            "Processed 1400/3000 images.\n",
            "Processed 1500/3000 images.\n",
            "Processed 1600/3000 images.\n",
            "Processed 1700/3000 images.\n",
            "Processed 1800/3000 images.\n",
            "Processed 1900/3000 images.\n",
            "Processed 2000/3000 images.\n",
            "Processed 2100/3000 images.\n",
            "Processed 2200/3000 images.\n",
            "Processed 2300/3000 images.\n",
            "Processed 2400/3000 images.\n",
            "Processed 2500/3000 images.\n",
            "Processed 2600/3000 images.\n",
            "Processed 2700/3000 images.\n",
            "Processed 2800/3000 images.\n",
            "Processed 2900/3000 images.\n",
            "Processed 3000/3000 images.\n",
            "Finished processing all images. Total processed images: 3000\n"
          ]
        }
      ],
      "source": [
        "import numpy as np\n",
        "import tensorflow as tf\n",
        "from tensorflow.keras.utils import to_categorical\n",
        "from sklearn.model_selection import train_test_split\n",
        "import cv2\n",
        "import os\n",
        "\n",
        "# Preprocessing images and labels\n",
        "def preprocess_image(image_path):\n",
        "    # Load image\n",
        "    image = cv2.imread(image_path)\n",
        "\n",
        "    # Check if the image has been loaded correctly\n",
        "    if image is None:\n",
        "        raise ValueError(f\"Unable to load image at {image_path}. Please check the file path and access permissions.\")\n",
        "\n",
        "    # If image is loaded, convert color scheme and normalize pixel values\n",
        "    image = cv2.cvtColor(image, cv2.COLOR_BGR2RGB)\n",
        "    image = image / 255.0  # Normalize to 0-1 range\n",
        "    return image\n",
        "\n",
        "# Character Index Mapping\n",
        "import string\n",
        "\n",
        "# Create a mapping of characters to integers\n",
        "characters = string.digits + string.ascii_lowercase + string.ascii_uppercase\n",
        "char_to_index = {char: index for index, char in enumerate(characters)}\n",
        "index_to_char = {index: char for char, index in char_to_index.items()}\n",
        "\n",
        "\n",
        "\n",
        "def encode_label(label):\n",
        "    # Initialize a matrix of zeros with shape (len(label), 62)\n",
        "    encoded = np.zeros((len(label), 62))\n",
        "\n",
        "    for i, char in enumerate(label):\n",
        "        index = char_to_index[char]  # Get the index for this character\n",
        "        encoded[i, index] = 1  # Set the appropriate element to 1\n",
        "\n",
        "    return encoded\n",
        "\n",
        "\n",
        "# Load and preprocess the dataset\n",
        "images = []\n",
        "labels = []\n",
        "count = 0\n",
        "total_files = len(os.listdir(folder_path))  # Get the total number of files to process\n",
        "\n",
        "for filename in os.listdir(folder_path):\n",
        "    if filename.endswith('.jpg'):\n",
        "        try:\n",
        "            label = filename.split('.')[0]  # This is a simplification\n",
        "            image_path = os.path.join(folder_path, filename)\n",
        "            image = preprocess_image(image_path)\n",
        "\n",
        "            images.append(image)\n",
        "            labels.append(encode_label(label))\n",
        "            count += 1\n",
        "\n",
        "            # Print progress every 100 images\n",
        "            if count % 100 == 0:\n",
        "                print(f\"Processed {count}/{total_files} images.\")\n",
        "        except Exception as e:\n",
        "            print(f\"Failed to process image {filename}: {e}\")\n",
        "\n",
        "# Now 'images' and 'labels' are populated with preprocessed data\n",
        "print(f\"Finished processing all images. Total processed images: {count}\")\n",
        "\n",
        "images = np.array(images)\n",
        "labels = np.array(labels)"
      ]
    },
    {
      "cell_type": "markdown",
      "metadata": {
        "id": "asFH66hrOjkO"
      },
      "source": [
        "# **Split data**"
      ]
    },
    {
      "cell_type": "code",
      "execution_count": null,
      "metadata": {
        "id": "xHaIhvxROnCM"
      },
      "outputs": [],
      "source": [
        "# Split the dataset\n",
        "X_train, X_test, y_train, y_test = train_test_split(images, labels, test_size=0.2, random_state=42)\n",
        "X_train, X_val, y_train, y_val = train_test_split(X_train, y_train, test_size=0.25, random_state=42) # 0.25 x 0.8 = 0.2"
      ]
    },
    {
      "cell_type": "markdown",
      "metadata": {
        "id": "8zkwq1i7OqTj"
      },
      "source": [
        "# **Train**"
      ]
    },
    {
      "cell_type": "code",
      "execution_count": null,
      "metadata": {
        "colab": {
          "base_uri": "https://localhost:8080/"
        },
        "id": "7EQ4qQYPOqcg",
        "outputId": "5dbbac12-0ea6-4c22-eacc-9b2999f3a2bf"
      },
      "outputs": [
        {
          "output_type": "stream",
          "name": "stdout",
          "text": [
            "Epoch 1/100\n",
            "57/57 [==============================] - 29s 472ms/step - loss: 3.6647 - accuracy: 0.1166 - val_loss: 3.4793 - val_accuracy: 0.1277\n",
            "Epoch 2/100\n",
            "57/57 [==============================] - 23s 399ms/step - loss: 3.5272 - accuracy: 0.1229 - val_loss: 3.4354 - val_accuracy: 0.1360\n",
            "Epoch 3/100\n",
            "57/57 [==============================] - 23s 396ms/step - loss: 3.4745 - accuracy: 0.1249 - val_loss: 3.4170 - val_accuracy: 0.1270\n",
            "Epoch 4/100\n",
            "57/57 [==============================] - 22s 392ms/step - loss: 3.4506 - accuracy: 0.1339 - val_loss: 3.4032 - val_accuracy: 0.1570\n",
            "Epoch 5/100\n",
            "57/57 [==============================] - 21s 366ms/step - loss: 3.4303 - accuracy: 0.1437 - val_loss: 3.3990 - val_accuracy: 0.1550\n",
            "Epoch 6/100\n",
            "57/57 [==============================] - 22s 385ms/step - loss: 3.4072 - accuracy: 0.1559 - val_loss: 3.3886 - val_accuracy: 0.1653\n",
            "Epoch 7/100\n",
            "57/57 [==============================] - 21s 367ms/step - loss: 3.3872 - accuracy: 0.1656 - val_loss: 3.3717 - val_accuracy: 0.1873\n",
            "Epoch 8/100\n",
            "57/57 [==============================] - 21s 378ms/step - loss: 3.3395 - accuracy: 0.1861 - val_loss: 3.3439 - val_accuracy: 0.1960\n",
            "Epoch 9/100\n",
            "57/57 [==============================] - 22s 390ms/step - loss: 3.2849 - accuracy: 0.2016 - val_loss: 3.3159 - val_accuracy: 0.1953\n",
            "Epoch 10/100\n",
            "57/57 [==============================] - 22s 385ms/step - loss: 3.2304 - accuracy: 0.2164 - val_loss: 3.2990 - val_accuracy: 0.2060\n",
            "Epoch 11/100\n",
            "57/57 [==============================] - 21s 364ms/step - loss: 3.1769 - accuracy: 0.2284 - val_loss: 3.2891 - val_accuracy: 0.2080\n",
            "Epoch 12/100\n",
            "57/57 [==============================] - 21s 376ms/step - loss: 3.1047 - accuracy: 0.2469 - val_loss: 3.2746 - val_accuracy: 0.2120\n",
            "Epoch 13/100\n",
            "57/57 [==============================] - 22s 392ms/step - loss: 3.0415 - accuracy: 0.2560 - val_loss: 3.2599 - val_accuracy: 0.2210\n",
            "Epoch 14/100\n",
            "57/57 [==============================] - 22s 383ms/step - loss: 2.9636 - accuracy: 0.2756 - val_loss: 3.2525 - val_accuracy: 0.2187\n",
            "Epoch 15/100\n",
            "57/57 [==============================] - 22s 387ms/step - loss: 2.8789 - accuracy: 0.2911 - val_loss: 3.2487 - val_accuracy: 0.2167\n",
            "Epoch 16/100\n",
            "57/57 [==============================] - 21s 378ms/step - loss: 2.7790 - accuracy: 0.3074 - val_loss: 3.2385 - val_accuracy: 0.2240\n",
            "Epoch 17/100\n",
            "57/57 [==============================] - 21s 364ms/step - loss: 2.6724 - accuracy: 0.3358 - val_loss: 3.2256 - val_accuracy: 0.2260\n",
            "Epoch 18/100\n",
            "57/57 [==============================] - 22s 380ms/step - loss: 2.5651 - accuracy: 0.3578 - val_loss: 3.2496 - val_accuracy: 0.2250\n",
            "Epoch 19/100\n",
            "57/57 [==============================] - 25s 430ms/step - loss: 2.4705 - accuracy: 0.3718 - val_loss: 3.2376 - val_accuracy: 0.2283\n",
            "Epoch 20/100\n",
            "57/57 [==============================] - 23s 414ms/step - loss: 2.3574 - accuracy: 0.4018 - val_loss: 3.2508 - val_accuracy: 0.2333\n",
            "Epoch 21/100\n",
            "57/57 [==============================] - 22s 379ms/step - loss: 2.2575 - accuracy: 0.4248 - val_loss: 3.2728 - val_accuracy: 0.2290\n",
            "Epoch 22/100\n",
            "57/57 [==============================] - 24s 418ms/step - loss: 2.1305 - accuracy: 0.4492 - val_loss: 3.2841 - val_accuracy: 0.2353\n",
            "Epoch 23/100\n",
            "57/57 [==============================] - 21s 366ms/step - loss: 2.0219 - accuracy: 0.4712 - val_loss: 3.3089 - val_accuracy: 0.2367\n",
            "Epoch 24/100\n",
            "57/57 [==============================] - 22s 396ms/step - loss: 1.9164 - accuracy: 0.4932 - val_loss: 3.3195 - val_accuracy: 0.2337\n",
            "Epoch 25/100\n",
            "57/57 [==============================] - 20s 358ms/step - loss: 1.8144 - accuracy: 0.5236 - val_loss: 3.3376 - val_accuracy: 0.2377\n",
            "Epoch 26/100\n",
            "57/57 [==============================] - 23s 402ms/step - loss: 1.7075 - accuracy: 0.5421 - val_loss: 3.3703 - val_accuracy: 0.2343\n",
            "Epoch 27/100\n",
            "57/57 [==============================] - 20s 359ms/step - loss: 1.6104 - accuracy: 0.5700 - val_loss: 3.4177 - val_accuracy: 0.2320\n",
            "Epoch 28/100\n",
            "57/57 [==============================] - 23s 408ms/step - loss: 1.5116 - accuracy: 0.5968 - val_loss: 3.4362 - val_accuracy: 0.2360\n",
            "Epoch 29/100\n",
            "57/57 [==============================] - 20s 358ms/step - loss: 1.4315 - accuracy: 0.6111 - val_loss: 3.4432 - val_accuracy: 0.2380\n",
            "Epoch 30/100\n",
            "57/57 [==============================] - 23s 405ms/step - loss: 1.3354 - accuracy: 0.6389 - val_loss: 3.5082 - val_accuracy: 0.2393\n",
            "Epoch 31/100\n",
            "57/57 [==============================] - 20s 360ms/step - loss: 1.2629 - accuracy: 0.6529 - val_loss: 3.5513 - val_accuracy: 0.2387\n",
            "Epoch 32/100\n",
            "57/57 [==============================] - 23s 409ms/step - loss: 1.1739 - accuracy: 0.6751 - val_loss: 3.6059 - val_accuracy: 0.2380\n",
            "Epoch 33/100\n",
            "57/57 [==============================] - 22s 384ms/step - loss: 1.0901 - accuracy: 0.7023 - val_loss: 3.6375 - val_accuracy: 0.2377\n",
            "Epoch 34/100\n",
            "57/57 [==============================] - 22s 391ms/step - loss: 1.0399 - accuracy: 0.7103 - val_loss: 3.6691 - val_accuracy: 0.2360\n",
            "Epoch 35/100\n",
            "57/57 [==============================] - 22s 380ms/step - loss: 1.0110 - accuracy: 0.7148 - val_loss: 3.7041 - val_accuracy: 0.2380\n",
            "Epoch 36/100\n",
            "57/57 [==============================] - 22s 385ms/step - loss: 0.9315 - accuracy: 0.7392 - val_loss: 3.7301 - val_accuracy: 0.2370\n",
            "Epoch 37/100\n",
            "57/57 [==============================] - 20s 355ms/step - loss: 0.8763 - accuracy: 0.7543 - val_loss: 3.7732 - val_accuracy: 0.2397\n",
            "Epoch 38/100\n",
            "57/57 [==============================] - 23s 406ms/step - loss: 0.8403 - accuracy: 0.7639 - val_loss: 3.8099 - val_accuracy: 0.2387\n",
            "Epoch 39/100\n",
            "57/57 [==============================] - 20s 354ms/step - loss: 0.7675 - accuracy: 0.7829 - val_loss: 3.8673 - val_accuracy: 0.2373\n",
            "Epoch 40/100\n",
            "57/57 [==============================] - 23s 400ms/step - loss: 0.7730 - accuracy: 0.7776 - val_loss: 3.8638 - val_accuracy: 0.2340\n",
            "Epoch 41/100\n",
            "57/57 [==============================] - 21s 361ms/step - loss: 0.7091 - accuracy: 0.7943 - val_loss: 3.8901 - val_accuracy: 0.2367\n",
            "Epoch 42/100\n",
            "57/57 [==============================] - 23s 400ms/step - loss: 0.6579 - accuracy: 0.8127 - val_loss: 3.9548 - val_accuracy: 0.2397\n",
            "Epoch 43/100\n",
            "57/57 [==============================] - 21s 376ms/step - loss: 0.6331 - accuracy: 0.8239 - val_loss: 3.9903 - val_accuracy: 0.2360\n",
            "Epoch 44/100\n",
            "57/57 [==============================] - 23s 408ms/step - loss: 0.6015 - accuracy: 0.8291 - val_loss: 3.9733 - val_accuracy: 0.2417\n",
            "Epoch 45/100\n",
            "57/57 [==============================] - 22s 381ms/step - loss: 0.5675 - accuracy: 0.8374 - val_loss: 4.0214 - val_accuracy: 0.2340\n",
            "Epoch 46/100\n",
            "57/57 [==============================] - 22s 386ms/step - loss: 0.5290 - accuracy: 0.8476 - val_loss: 4.1072 - val_accuracy: 0.2370\n",
            "Epoch 47/100\n",
            "57/57 [==============================] - 22s 379ms/step - loss: 0.5059 - accuracy: 0.8526 - val_loss: 4.1365 - val_accuracy: 0.2350\n",
            "Epoch 48/100\n",
            "57/57 [==============================] - 22s 386ms/step - loss: 0.4965 - accuracy: 0.8562 - val_loss: 4.1777 - val_accuracy: 0.2330\n",
            "Epoch 49/100\n",
            "57/57 [==============================] - 20s 355ms/step - loss: 0.4645 - accuracy: 0.8683 - val_loss: 4.1699 - val_accuracy: 0.2343\n",
            "Epoch 50/100\n",
            "57/57 [==============================] - 22s 388ms/step - loss: 0.4484 - accuracy: 0.8717 - val_loss: 4.2408 - val_accuracy: 0.2387\n",
            "Epoch 51/100\n",
            "57/57 [==============================] - 20s 356ms/step - loss: 0.4335 - accuracy: 0.8742 - val_loss: 4.3226 - val_accuracy: 0.2397\n",
            "Epoch 52/100\n",
            "57/57 [==============================] - 22s 394ms/step - loss: 0.4225 - accuracy: 0.8776 - val_loss: 4.3615 - val_accuracy: 0.2323\n",
            "Epoch 53/100\n",
            "57/57 [==============================] - 22s 393ms/step - loss: 0.4172 - accuracy: 0.8759 - val_loss: 4.3207 - val_accuracy: 0.2393\n",
            "Epoch 54/100\n",
            "57/57 [==============================] - 23s 409ms/step - loss: 0.3953 - accuracy: 0.8852 - val_loss: 4.3651 - val_accuracy: 0.2373\n",
            "Epoch 55/100\n",
            "57/57 [==============================] - 20s 360ms/step - loss: 0.3748 - accuracy: 0.8909 - val_loss: 4.4202 - val_accuracy: 0.2403\n",
            "Epoch 56/100\n",
            "57/57 [==============================] - 23s 414ms/step - loss: 0.3752 - accuracy: 0.8926 - val_loss: 4.3068 - val_accuracy: 0.2327\n",
            "Epoch 57/100\n",
            "57/57 [==============================] - 20s 356ms/step - loss: 0.3644 - accuracy: 0.8944 - val_loss: 4.4164 - val_accuracy: 0.2383\n",
            "Epoch 58/100\n",
            "57/57 [==============================] - 22s 387ms/step - loss: 0.3577 - accuracy: 0.8963 - val_loss: 4.4228 - val_accuracy: 0.2377\n",
            "Epoch 59/100\n",
            "57/57 [==============================] - 20s 359ms/step - loss: 0.3211 - accuracy: 0.9063 - val_loss: 4.5112 - val_accuracy: 0.2333\n",
            "Epoch 60/100\n",
            "57/57 [==============================] - 22s 391ms/step - loss: 0.3216 - accuracy: 0.9042 - val_loss: 4.5374 - val_accuracy: 0.2367\n",
            "Epoch 61/100\n",
            "57/57 [==============================] - 22s 380ms/step - loss: 0.3247 - accuracy: 0.9058 - val_loss: 4.5528 - val_accuracy: 0.2350\n",
            "Epoch 62/100\n",
            "57/57 [==============================] - 22s 390ms/step - loss: 0.2987 - accuracy: 0.9159 - val_loss: 4.5801 - val_accuracy: 0.2387\n",
            "Epoch 63/100\n",
            "57/57 [==============================] - 24s 416ms/step - loss: 0.2943 - accuracy: 0.9144 - val_loss: 4.5743 - val_accuracy: 0.2403\n",
            "Epoch 64/100\n",
            "57/57 [==============================] - 23s 402ms/step - loss: 0.2905 - accuracy: 0.9154 - val_loss: 4.6162 - val_accuracy: 0.2340\n",
            "Epoch 65/100\n",
            "57/57 [==============================] - 21s 362ms/step - loss: 0.2786 - accuracy: 0.9152 - val_loss: 4.6661 - val_accuracy: 0.2433\n",
            "Epoch 66/100\n",
            "57/57 [==============================] - 23s 400ms/step - loss: 0.2906 - accuracy: 0.9134 - val_loss: 4.6976 - val_accuracy: 0.2343\n",
            "Epoch 67/100\n",
            "57/57 [==============================] - 21s 362ms/step - loss: 0.2546 - accuracy: 0.9253 - val_loss: 4.5898 - val_accuracy: 0.2360\n",
            "Epoch 68/100\n",
            "57/57 [==============================] - 23s 398ms/step - loss: 0.2408 - accuracy: 0.9287 - val_loss: 4.8008 - val_accuracy: 0.2377\n",
            "Epoch 69/100\n",
            "57/57 [==============================] - 22s 382ms/step - loss: 0.2474 - accuracy: 0.9241 - val_loss: 4.6873 - val_accuracy: 0.2387\n",
            "Epoch 70/100\n",
            "57/57 [==============================] - 23s 405ms/step - loss: 0.2435 - accuracy: 0.9273 - val_loss: 4.7278 - val_accuracy: 0.2347\n",
            "Epoch 71/100\n",
            "57/57 [==============================] - 22s 392ms/step - loss: 0.2390 - accuracy: 0.9288 - val_loss: 4.7151 - val_accuracy: 0.2370\n",
            "Epoch 72/100\n",
            "57/57 [==============================] - 23s 398ms/step - loss: 0.2293 - accuracy: 0.9329 - val_loss: 4.7717 - val_accuracy: 0.2383\n",
            "Epoch 73/100\n",
            "57/57 [==============================] - 21s 367ms/step - loss: 0.2392 - accuracy: 0.9270 - val_loss: 4.7382 - val_accuracy: 0.2320\n",
            "Epoch 74/100\n",
            "57/57 [==============================] - 24s 423ms/step - loss: 0.2223 - accuracy: 0.9338 - val_loss: 4.8883 - val_accuracy: 0.2393\n",
            "Epoch 75/100\n",
            "57/57 [==============================] - 22s 388ms/step - loss: 0.2245 - accuracy: 0.9336 - val_loss: 4.7891 - val_accuracy: 0.2417\n",
            "Epoch 76/100\n",
            "57/57 [==============================] - 22s 392ms/step - loss: 0.2157 - accuracy: 0.9343 - val_loss: 4.8540 - val_accuracy: 0.2363\n",
            "Epoch 77/100\n",
            "57/57 [==============================] - 22s 386ms/step - loss: 0.2084 - accuracy: 0.9350 - val_loss: 4.8344 - val_accuracy: 0.2370\n",
            "Epoch 78/100\n",
            "57/57 [==============================] - 22s 389ms/step - loss: 0.2117 - accuracy: 0.9378 - val_loss: 4.9021 - val_accuracy: 0.2393\n",
            "Epoch 79/100\n",
            "57/57 [==============================] - 22s 391ms/step - loss: 0.2198 - accuracy: 0.9338 - val_loss: 4.8978 - val_accuracy: 0.2390\n",
            "Epoch 80/100\n",
            "57/57 [==============================] - 24s 415ms/step - loss: 0.2109 - accuracy: 0.9388 - val_loss: 4.8730 - val_accuracy: 0.2373\n",
            "Epoch 81/100\n",
            "57/57 [==============================] - 22s 390ms/step - loss: 0.2052 - accuracy: 0.9392 - val_loss: 4.9785 - val_accuracy: 0.2363\n",
            "Epoch 82/100\n",
            "57/57 [==============================] - 20s 359ms/step - loss: 0.1874 - accuracy: 0.9438 - val_loss: 4.9543 - val_accuracy: 0.2363\n",
            "Epoch 83/100\n",
            "57/57 [==============================] - 24s 414ms/step - loss: 0.2071 - accuracy: 0.9377 - val_loss: 4.9734 - val_accuracy: 0.2363\n",
            "Epoch 84/100\n",
            "57/57 [==============================] - 22s 382ms/step - loss: 0.1942 - accuracy: 0.9418 - val_loss: 4.9269 - val_accuracy: 0.2377\n",
            "Epoch 85/100\n",
            "57/57 [==============================] - 22s 383ms/step - loss: 0.1821 - accuracy: 0.9472 - val_loss: 4.9717 - val_accuracy: 0.2400\n",
            "Epoch 86/100\n",
            "57/57 [==============================] - 20s 358ms/step - loss: 0.1909 - accuracy: 0.9434 - val_loss: 5.0857 - val_accuracy: 0.2403\n",
            "Epoch 87/100\n",
            "57/57 [==============================] - 23s 407ms/step - loss: 0.1810 - accuracy: 0.9450 - val_loss: 5.0360 - val_accuracy: 0.2377\n",
            "Epoch 88/100\n",
            "57/57 [==============================] - 23s 407ms/step - loss: 0.1794 - accuracy: 0.9476 - val_loss: 5.0382 - val_accuracy: 0.2363\n",
            "Epoch 89/100\n",
            "57/57 [==============================] - 21s 365ms/step - loss: 0.1672 - accuracy: 0.9504 - val_loss: 5.0052 - val_accuracy: 0.2373\n",
            "Epoch 90/100\n",
            "57/57 [==============================] - 20s 358ms/step - loss: 0.1682 - accuracy: 0.9492 - val_loss: 5.0763 - val_accuracy: 0.2390\n",
            "Epoch 91/100\n",
            "57/57 [==============================] - 23s 402ms/step - loss: 0.1684 - accuracy: 0.9482 - val_loss: 5.2298 - val_accuracy: 0.2403\n",
            "Epoch 92/100\n",
            "57/57 [==============================] - 21s 376ms/step - loss: 0.1848 - accuracy: 0.9441 - val_loss: 5.1395 - val_accuracy: 0.2397\n",
            "Epoch 93/100\n",
            "57/57 [==============================] - 21s 367ms/step - loss: 0.1675 - accuracy: 0.9506 - val_loss: 5.1446 - val_accuracy: 0.2420\n",
            "Epoch 94/100\n",
            "57/57 [==============================] - 22s 381ms/step - loss: 0.1487 - accuracy: 0.9543 - val_loss: 5.1858 - val_accuracy: 0.2383\n",
            "Epoch 95/100\n",
            "57/57 [==============================] - 21s 366ms/step - loss: 0.1600 - accuracy: 0.9518 - val_loss: 5.1206 - val_accuracy: 0.2430\n",
            "Epoch 96/100\n",
            "57/57 [==============================] - 22s 381ms/step - loss: 0.1520 - accuracy: 0.9546 - val_loss: 5.1721 - val_accuracy: 0.2367\n",
            "Epoch 97/100\n",
            "57/57 [==============================] - 23s 403ms/step - loss: 0.1623 - accuracy: 0.9521 - val_loss: 5.1565 - val_accuracy: 0.2420\n",
            "Epoch 98/100\n",
            "57/57 [==============================] - 22s 392ms/step - loss: 0.1511 - accuracy: 0.9558 - val_loss: 5.1618 - val_accuracy: 0.2387\n",
            "Epoch 99/100\n",
            "57/57 [==============================] - 22s 388ms/step - loss: 0.1575 - accuracy: 0.9512 - val_loss: 5.1152 - val_accuracy: 0.2370\n",
            "Epoch 100/100\n",
            "57/57 [==============================] - 23s 410ms/step - loss: 0.1498 - accuracy: 0.9544 - val_loss: 5.1803 - val_accuracy: 0.2367\n"
          ]
        },
        {
          "output_type": "execute_result",
          "data": {
            "text/plain": [
              "<keras.src.callbacks.History at 0x7bd1d1cb79a0>"
            ]
          },
          "metadata": {},
          "execution_count": 5
        }
      ],
      "source": [
        "# Train your model\n",
        "model.fit(X_train, y_train, epochs=100, validation_data=(X_val, y_val))"
      ]
    },
    {
      "cell_type": "markdown",
      "metadata": {
        "id": "kS2J7DCCO2Et"
      },
      "source": [
        "# **Test**"
      ]
    },
    {
      "cell_type": "code",
      "execution_count": null,
      "metadata": {
        "colab": {
          "base_uri": "https://localhost:8080/"
        },
        "id": "XCc8lY1TO2Ma",
        "outputId": "9e816be5-ab00-41f7-ab18-df1d31cafd77"
      },
      "outputs": [
        {
          "output_type": "stream",
          "name": "stdout",
          "text": [
            "19/19 - 2s - loss: 5.2895 - accuracy: 0.2327 - 2s/epoch - 105ms/step\n",
            "Test accuracy: 0.23266667127609253, Test loss: 5.2895188331604\n"
          ]
        }
      ],
      "source": [
        "# After training, evaluate model on the testing set\n",
        "test_loss, test_acc = model.evaluate(X_test, y_test, verbose=2)\n",
        "print(f'Test accuracy: {test_acc}, Test loss: {test_loss}')"
      ]
    },
    {
      "cell_type": "markdown",
      "metadata": {
        "id": "a6GFJJ6UauH_"
      },
      "source": [
        "# **Pick random CAPTCHA image from testing set and make prections**"
      ]
    },
    {
      "cell_type": "code",
      "execution_count": null,
      "metadata": {
        "colab": {
          "base_uri": "https://localhost:8080/",
          "height": 221
        },
        "id": "ncNEz9pEauPU",
        "outputId": "0e8f7939-c38f-48a7-dad2-18d0736eead4"
      },
      "outputs": [
        {
          "output_type": "display_data",
          "data": {
            "text/plain": [
              "<Figure size 640x480 with 1 Axes>"
            ],
            "image/png": "[encoded data removed]"
          },
          "metadata": {}
        },
        {
          "output_type": "stream",
          "name": "stdout",
          "text": [
            "1/1 [==============================] - 0s 39ms/step\n",
            "Predicted characters: 1E7JG\n",
            "True characters: 1Ek9Q\n"
          ]
        }
      ],
      "source": [
        "import matplotlib.pyplot as plt\n",
        "import numpy as np\n",
        "\n",
        "# Choose a random image from the training set\n",
        "random_index = np.random.randint(0, len(X_test))\n",
        "random_image = X_test[random_index]\n",
        "random_label = y_test[random_index]\n",
        "\n",
        "# Display the chosen image\n",
        "plt.imshow(random_image)\n",
        "plt.axis('off')  # Turn off axis numbers and ticks\n",
        "plt.show()\n",
        "\n",
        "# Reshape the image to match the model's input format\n",
        "random_image = np.expand_dims(random_image, axis=0)\n",
        "\n",
        "# Predict the characters in the image\n",
        "prediction = model.predict(random_image)\n",
        "\n",
        "# Decode the prediction\n",
        "predicted_label = [index_to_char[np.argmax(char)] for char in prediction[0]]\n",
        "\n",
        "# Convert the one-hot encoded true label to characters\n",
        "true_label = [index_to_char[np.argmax(char)] for char in random_label]\n",
        "\n",
        "print(f\"Predicted characters: {''.join(predicted_label)}\")\n",
        "print(f\"True characters: {''.join(true_label)}\")"
      ]
    }
  ],
  "metadata": {
    "colab": {
      "provenance": []
    },
    "kernelspec": {
      "display_name": "Python 3",
      "name": "python3"
    },
    "language_info": {
      "name": "python"
    }
  },
  "nbformat": 4,
  "nbformat_minor": 0
}